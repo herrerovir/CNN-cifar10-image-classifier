{
 "cells": [
  {
   "cell_type": "markdown",
   "id": "a4302428",
   "metadata": {},
   "source": [
    "# CIFAR-10 Image Classification Using Convolutional Neural Networks\n",
    "**Author:** Virginia Herrero"
   ]
  },
  {
   "cell_type": "markdown",
   "id": "00c35210",
   "metadata": {},
   "source": [
    "## Introduction\n",
    "\n",
    "This project explores how to use a Convolutional Neural Network (CNN) to classify images from the CIFAR-10 dataset. CNNs are a type of deep learning model that work especially well with image data because they can automatically learn to detect patterns like edges, shapes, and textures. "
   ]
  },
  {
   "cell_type": "markdown",
   "id": "0c229454",
   "metadata": {},
   "source": [
    "## Goal\n",
    "\n",
    "The main goal is to build and train a CNN that can accurately classify images from the CIFAR-10 dataset. Along the way, this involves a few key steps: preparing the data, designing the model architecture, training it on the dataset, and evaluating how well it performs. There's also room to experiment with improvements like data augmentation or tuning the model to boost accuracy."
   ]
  },
  {
   "cell_type": "markdown",
   "id": "377e9629",
   "metadata": {},
   "source": [
    "## Dataset Overview\n",
    "\n",
    "CIFAR-10 is a popular dataset used for training machine learning models on image classification tasks. It contains **60,000 color images**, each just **32x32 pixels**, across **10 different categories**. There are **50,000 images for training** and **10,000 for testing**.\n",
    "\n",
    "The ten classes are:\n",
    "\n",
    "* Airplane\n",
    "* Automobile\n",
    "* Bird\n",
    "* Cat\n",
    "* Deer\n",
    "* Dog\n",
    "* Frog\n",
    "* Horse\n",
    "* Ship\n",
    "* Truck\n",
    "\n",
    "Each image is labeled with one of these classes. While the images are small and simple, they still represent a good challenge for building a working image classifier."
   ]
  }
 ],
 "metadata": {
  "language_info": {
   "name": "python"
  }
 },
 "nbformat": 4,
 "nbformat_minor": 5
}
